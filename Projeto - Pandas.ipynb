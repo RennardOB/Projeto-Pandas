{
 "cells": [
  {
   "cell_type": "code",
   "execution_count": 1,
   "metadata": {},
   "outputs": [],
   "source": [
    "import pandas as pd\n",
    "import numpy"
   ]
  },
  {
   "cell_type": "code",
   "execution_count": 2,
   "metadata": {
    "scrolled": true
   },
   "outputs": [],
   "source": [
    "#Arquivo completo do ENEM de 2019\n",
    "#Para se entender o arquivo e o que se refere cada coluna, é necessário consultar o dicionário de dados (Dicionário_Microdados_Enem_2019.xlsx)\n",
    "\n",
    "enem = pd.read_csv('MICRODADOS_ENEM_2019.csv', encoding=\"cp1252\", sep = ';', decimal=',')"
   ]
  },
  {
   "cell_type": "code",
   "execution_count": 3,
   "metadata": {},
   "outputs": [
    {
     "name": "stdout",
     "output_type": "stream",
     "text": [
      "<_io.TextIOWrapper name='MICRODADOS_ENEM_2019.csv' mode='r' encoding='cp1252'>\n"
     ]
    }
   ],
   "source": [
    "#Descobrindo o enconding do csv\n",
    "with open('MICRODADOS_ENEM_2019.csv') as f:\n",
    "    print(f)"
   ]
  },
  {
   "cell_type": "code",
   "execution_count": 4,
   "metadata": {
    "scrolled": true
   },
   "outputs": [
    {
     "data": {
      "text/html": [
       "<div>\n",
       "<style scoped>\n",
       "    .dataframe tbody tr th:only-of-type {\n",
       "        vertical-align: middle;\n",
       "    }\n",
       "\n",
       "    .dataframe tbody tr th {\n",
       "        vertical-align: top;\n",
       "    }\n",
       "\n",
       "    .dataframe thead th {\n",
       "        text-align: right;\n",
       "    }\n",
       "</style>\n",
       "<table border=\"1\" class=\"dataframe\">\n",
       "  <thead>\n",
       "    <tr style=\"text-align: right;\">\n",
       "      <th></th>\n",
       "      <th>NU_INSCRICAO</th>\n",
       "      <th>NU_ANO</th>\n",
       "      <th>CO_MUNICIPIO_RESIDENCIA</th>\n",
       "      <th>NO_MUNICIPIO_RESIDENCIA</th>\n",
       "      <th>CO_UF_RESIDENCIA</th>\n",
       "      <th>SG_UF_RESIDENCIA</th>\n",
       "      <th>NU_IDADE</th>\n",
       "      <th>TP_SEXO</th>\n",
       "      <th>TP_ESTADO_CIVIL</th>\n",
       "      <th>TP_COR_RACA</th>\n",
       "      <th>...</th>\n",
       "      <th>Q016</th>\n",
       "      <th>Q017</th>\n",
       "      <th>Q018</th>\n",
       "      <th>Q019</th>\n",
       "      <th>Q020</th>\n",
       "      <th>Q021</th>\n",
       "      <th>Q022</th>\n",
       "      <th>Q023</th>\n",
       "      <th>Q024</th>\n",
       "      <th>Q025</th>\n",
       "    </tr>\n",
       "  </thead>\n",
       "  <tbody>\n",
       "    <tr>\n",
       "      <th>0</th>\n",
       "      <td>190001595656</td>\n",
       "      <td>2019</td>\n",
       "      <td>3552205</td>\n",
       "      <td>Sorocaba</td>\n",
       "      <td>35</td>\n",
       "      <td>SP</td>\n",
       "      <td>36.0</td>\n",
       "      <td>M</td>\n",
       "      <td>1</td>\n",
       "      <td>3</td>\n",
       "      <td>...</td>\n",
       "      <td>A</td>\n",
       "      <td>A</td>\n",
       "      <td>A</td>\n",
       "      <td>A</td>\n",
       "      <td>A</td>\n",
       "      <td>A</td>\n",
       "      <td>C</td>\n",
       "      <td>A</td>\n",
       "      <td>C</td>\n",
       "      <td>B</td>\n",
       "    </tr>\n",
       "    <tr>\n",
       "      <th>1</th>\n",
       "      <td>190001421546</td>\n",
       "      <td>2019</td>\n",
       "      <td>2910800</td>\n",
       "      <td>Feira de Santana</td>\n",
       "      <td>29</td>\n",
       "      <td>BA</td>\n",
       "      <td>23.0</td>\n",
       "      <td>M</td>\n",
       "      <td>1</td>\n",
       "      <td>1</td>\n",
       "      <td>...</td>\n",
       "      <td>A</td>\n",
       "      <td>A</td>\n",
       "      <td>A</td>\n",
       "      <td>B</td>\n",
       "      <td>A</td>\n",
       "      <td>A</td>\n",
       "      <td>E</td>\n",
       "      <td>A</td>\n",
       "      <td>A</td>\n",
       "      <td>B</td>\n",
       "    </tr>\n",
       "    <tr>\n",
       "      <th>2</th>\n",
       "      <td>190001133210</td>\n",
       "      <td>2019</td>\n",
       "      <td>2304400</td>\n",
       "      <td>Fortaleza</td>\n",
       "      <td>23</td>\n",
       "      <td>CE</td>\n",
       "      <td>39.0</td>\n",
       "      <td>F</td>\n",
       "      <td>1</td>\n",
       "      <td>3</td>\n",
       "      <td>...</td>\n",
       "      <td>A</td>\n",
       "      <td>A</td>\n",
       "      <td>A</td>\n",
       "      <td>B</td>\n",
       "      <td>A</td>\n",
       "      <td>A</td>\n",
       "      <td>C</td>\n",
       "      <td>A</td>\n",
       "      <td>A</td>\n",
       "      <td>B</td>\n",
       "    </tr>\n",
       "    <tr>\n",
       "      <th>3</th>\n",
       "      <td>190001199383</td>\n",
       "      <td>2019</td>\n",
       "      <td>1721000</td>\n",
       "      <td>Palmas</td>\n",
       "      <td>17</td>\n",
       "      <td>TO</td>\n",
       "      <td>25.0</td>\n",
       "      <td>F</td>\n",
       "      <td>1</td>\n",
       "      <td>1</td>\n",
       "      <td>...</td>\n",
       "      <td>A</td>\n",
       "      <td>A</td>\n",
       "      <td>A</td>\n",
       "      <td>C</td>\n",
       "      <td>A</td>\n",
       "      <td>B</td>\n",
       "      <td>D</td>\n",
       "      <td>A</td>\n",
       "      <td>B</td>\n",
       "      <td>B</td>\n",
       "    </tr>\n",
       "    <tr>\n",
       "      <th>4</th>\n",
       "      <td>190001237802</td>\n",
       "      <td>2019</td>\n",
       "      <td>3118601</td>\n",
       "      <td>Contagem</td>\n",
       "      <td>31</td>\n",
       "      <td>MG</td>\n",
       "      <td>22.0</td>\n",
       "      <td>F</td>\n",
       "      <td>1</td>\n",
       "      <td>1</td>\n",
       "      <td>...</td>\n",
       "      <td>B</td>\n",
       "      <td>A</td>\n",
       "      <td>A</td>\n",
       "      <td>B</td>\n",
       "      <td>A</td>\n",
       "      <td>A</td>\n",
       "      <td>C</td>\n",
       "      <td>B</td>\n",
       "      <td>B</td>\n",
       "      <td>B</td>\n",
       "    </tr>\n",
       "  </tbody>\n",
       "</table>\n",
       "<p>5 rows × 136 columns</p>\n",
       "</div>"
      ],
      "text/plain": [
       "   NU_INSCRICAO  NU_ANO  CO_MUNICIPIO_RESIDENCIA NO_MUNICIPIO_RESIDENCIA  \\\n",
       "0  190001595656    2019                  3552205                Sorocaba   \n",
       "1  190001421546    2019                  2910800        Feira de Santana   \n",
       "2  190001133210    2019                  2304400               Fortaleza   \n",
       "3  190001199383    2019                  1721000                  Palmas   \n",
       "4  190001237802    2019                  3118601                Contagem   \n",
       "\n",
       "   CO_UF_RESIDENCIA SG_UF_RESIDENCIA  NU_IDADE TP_SEXO  TP_ESTADO_CIVIL  \\\n",
       "0                35               SP      36.0       M                1   \n",
       "1                29               BA      23.0       M                1   \n",
       "2                23               CE      39.0       F                1   \n",
       "3                17               TO      25.0       F                1   \n",
       "4                31               MG      22.0       F                1   \n",
       "\n",
       "   TP_COR_RACA  ...  Q016  Q017 Q018  Q019 Q020  Q021  Q022  Q023  Q024  Q025  \n",
       "0            3  ...     A     A    A     A    A     A     C     A     C     B  \n",
       "1            1  ...     A     A    A     B    A     A     E     A     A     B  \n",
       "2            3  ...     A     A    A     B    A     A     C     A     A     B  \n",
       "3            1  ...     A     A    A     C    A     B     D     A     B     B  \n",
       "4            1  ...     B     A    A     B    A     A     C     B     B     B  \n",
       "\n",
       "[5 rows x 136 columns]"
      ]
     },
     "execution_count": 4,
     "metadata": {},
     "output_type": "execute_result"
    }
   ],
   "source": [
    "enem.head()\n",
    "#enem.shape"
   ]
  },
  {
   "cell_type": "code",
   "execution_count": 5,
   "metadata": {
    "scrolled": true
   },
   "outputs": [],
   "source": [
    "#Filtrando os dados dos alunos residentes do estado de Minas Gerais\n",
    "enem_mg = enem[enem['SG_UF_RESIDENCIA'] == 'MG']"
   ]
  },
  {
   "cell_type": "code",
   "execution_count": 6,
   "metadata": {},
   "outputs": [
    {
     "data": {
      "text/plain": [
       "(538896, 136)"
      ]
     },
     "execution_count": 6,
     "metadata": {},
     "output_type": "execute_result"
    }
   ],
   "source": [
    "enem_mg.shape"
   ]
  },
  {
   "cell_type": "code",
   "execution_count": 2,
   "metadata": {},
   "outputs": [
    {
     "ename": "NameError",
     "evalue": "name 'enem_mg' is not defined",
     "output_type": "error",
     "traceback": [
      "\u001b[1;31m---------------------------------------------------------------------------\u001b[0m",
      "\u001b[1;31mNameError\u001b[0m                                 Traceback (most recent call last)",
      "\u001b[1;32m<ipython-input-2-c436ac02ddea>\u001b[0m in \u001b[0;36m<module>\u001b[1;34m\u001b[0m\n\u001b[0;32m      1\u001b[0m \u001b[1;31m#Criando um novo arquivo com os dados dos alunos de MG, com o objetivo de diminuir o tempo de leitura dos dados\u001b[0m\u001b[1;33m\u001b[0m\u001b[1;33m\u001b[0m\u001b[1;33m\u001b[0m\u001b[0m\n\u001b[1;32m----> 2\u001b[1;33m \u001b[0menem_mg\u001b[0m\u001b[1;33m.\u001b[0m\u001b[0mto_csv\u001b[0m\u001b[1;33m(\u001b[0m\u001b[1;34m'ENEM_2019_MG.csv'\u001b[0m\u001b[1;33m)\u001b[0m\u001b[1;33m\u001b[0m\u001b[1;33m\u001b[0m\u001b[0m\n\u001b[0m",
      "\u001b[1;31mNameError\u001b[0m: name 'enem_mg' is not defined"
     ]
    }
   ],
   "source": [
    "#Criando um novo arquivo com os dados dos alunos de MG, com o objetivo de diminuir o tempo de leitura dos dados\n",
    "enem_mg.to_csv('ENEM_2019_MG.csv')"
   ]
  },
  {
   "cell_type": "code",
   "execution_count": 8,
   "metadata": {},
   "outputs": [
    {
     "data": {
      "text/html": [
       "<div>\n",
       "<style scoped>\n",
       "    .dataframe tbody tr th:only-of-type {\n",
       "        vertical-align: middle;\n",
       "    }\n",
       "\n",
       "    .dataframe tbody tr th {\n",
       "        vertical-align: top;\n",
       "    }\n",
       "\n",
       "    .dataframe thead th {\n",
       "        text-align: right;\n",
       "    }\n",
       "</style>\n",
       "<table border=\"1\" class=\"dataframe\">\n",
       "  <thead>\n",
       "    <tr style=\"text-align: right;\">\n",
       "      <th></th>\n",
       "      <th>NU_INSCRICAO</th>\n",
       "      <th>NU_ANO</th>\n",
       "      <th>CO_MUNICIPIO_RESIDENCIA</th>\n",
       "      <th>NO_MUNICIPIO_RESIDENCIA</th>\n",
       "      <th>CO_UF_RESIDENCIA</th>\n",
       "      <th>SG_UF_RESIDENCIA</th>\n",
       "      <th>NU_IDADE</th>\n",
       "      <th>TP_SEXO</th>\n",
       "      <th>TP_ESTADO_CIVIL</th>\n",
       "      <th>TP_COR_RACA</th>\n",
       "      <th>...</th>\n",
       "      <th>Q016</th>\n",
       "      <th>Q017</th>\n",
       "      <th>Q018</th>\n",
       "      <th>Q019</th>\n",
       "      <th>Q020</th>\n",
       "      <th>Q021</th>\n",
       "      <th>Q022</th>\n",
       "      <th>Q023</th>\n",
       "      <th>Q024</th>\n",
       "      <th>Q025</th>\n",
       "    </tr>\n",
       "  </thead>\n",
       "  <tbody>\n",
       "    <tr>\n",
       "      <th>4</th>\n",
       "      <td>190001237802</td>\n",
       "      <td>2019</td>\n",
       "      <td>3118601</td>\n",
       "      <td>Contagem</td>\n",
       "      <td>31</td>\n",
       "      <td>MG</td>\n",
       "      <td>22.0</td>\n",
       "      <td>F</td>\n",
       "      <td>1</td>\n",
       "      <td>1</td>\n",
       "      <td>...</td>\n",
       "      <td>B</td>\n",
       "      <td>A</td>\n",
       "      <td>A</td>\n",
       "      <td>B</td>\n",
       "      <td>A</td>\n",
       "      <td>A</td>\n",
       "      <td>C</td>\n",
       "      <td>B</td>\n",
       "      <td>B</td>\n",
       "      <td>B</td>\n",
       "    </tr>\n",
       "    <tr>\n",
       "      <th>14</th>\n",
       "      <td>190001237803</td>\n",
       "      <td>2019</td>\n",
       "      <td>3170206</td>\n",
       "      <td>Uberlândia</td>\n",
       "      <td>31</td>\n",
       "      <td>MG</td>\n",
       "      <td>30.0</td>\n",
       "      <td>F</td>\n",
       "      <td>1</td>\n",
       "      <td>2</td>\n",
       "      <td>...</td>\n",
       "      <td>A</td>\n",
       "      <td>A</td>\n",
       "      <td>A</td>\n",
       "      <td>B</td>\n",
       "      <td>A</td>\n",
       "      <td>A</td>\n",
       "      <td>B</td>\n",
       "      <td>A</td>\n",
       "      <td>A</td>\n",
       "      <td>A</td>\n",
       "    </tr>\n",
       "    <tr>\n",
       "      <th>25</th>\n",
       "      <td>190001237804</td>\n",
       "      <td>2019</td>\n",
       "      <td>3124104</td>\n",
       "      <td>Esmeraldas</td>\n",
       "      <td>31</td>\n",
       "      <td>MG</td>\n",
       "      <td>27.0</td>\n",
       "      <td>M</td>\n",
       "      <td>1</td>\n",
       "      <td>3</td>\n",
       "      <td>...</td>\n",
       "      <td>A</td>\n",
       "      <td>A</td>\n",
       "      <td>A</td>\n",
       "      <td>B</td>\n",
       "      <td>A</td>\n",
       "      <td>B</td>\n",
       "      <td>C</td>\n",
       "      <td>A</td>\n",
       "      <td>A</td>\n",
       "      <td>A</td>\n",
       "    </tr>\n",
       "    <tr>\n",
       "      <th>32</th>\n",
       "      <td>190001237805</td>\n",
       "      <td>2019</td>\n",
       "      <td>3118304</td>\n",
       "      <td>Conselheiro Lafaiete</td>\n",
       "      <td>31</td>\n",
       "      <td>MG</td>\n",
       "      <td>22.0</td>\n",
       "      <td>F</td>\n",
       "      <td>1</td>\n",
       "      <td>1</td>\n",
       "      <td>...</td>\n",
       "      <td>B</td>\n",
       "      <td>A</td>\n",
       "      <td>B</td>\n",
       "      <td>C</td>\n",
       "      <td>B</td>\n",
       "      <td>A</td>\n",
       "      <td>E</td>\n",
       "      <td>A</td>\n",
       "      <td>B</td>\n",
       "      <td>B</td>\n",
       "    </tr>\n",
       "    <tr>\n",
       "      <th>38</th>\n",
       "      <td>190001237806</td>\n",
       "      <td>2019</td>\n",
       "      <td>3162922</td>\n",
       "      <td>São Joaquim de Bicas</td>\n",
       "      <td>31</td>\n",
       "      <td>MG</td>\n",
       "      <td>23.0</td>\n",
       "      <td>F</td>\n",
       "      <td>1</td>\n",
       "      <td>4</td>\n",
       "      <td>...</td>\n",
       "      <td>B</td>\n",
       "      <td>A</td>\n",
       "      <td>A</td>\n",
       "      <td>B</td>\n",
       "      <td>B</td>\n",
       "      <td>A</td>\n",
       "      <td>C</td>\n",
       "      <td>A</td>\n",
       "      <td>B</td>\n",
       "      <td>B</td>\n",
       "    </tr>\n",
       "  </tbody>\n",
       "</table>\n",
       "<p>5 rows × 136 columns</p>\n",
       "</div>"
      ],
      "text/plain": [
       "    NU_INSCRICAO  NU_ANO  CO_MUNICIPIO_RESIDENCIA NO_MUNICIPIO_RESIDENCIA  \\\n",
       "4   190001237802    2019                  3118601                Contagem   \n",
       "14  190001237803    2019                  3170206              Uberlândia   \n",
       "25  190001237804    2019                  3124104              Esmeraldas   \n",
       "32  190001237805    2019                  3118304    Conselheiro Lafaiete   \n",
       "38  190001237806    2019                  3162922    São Joaquim de Bicas   \n",
       "\n",
       "    CO_UF_RESIDENCIA SG_UF_RESIDENCIA  NU_IDADE TP_SEXO  TP_ESTADO_CIVIL  \\\n",
       "4                 31               MG      22.0       F                1   \n",
       "14                31               MG      30.0       F                1   \n",
       "25                31               MG      27.0       M                1   \n",
       "32                31               MG      22.0       F                1   \n",
       "38                31               MG      23.0       F                1   \n",
       "\n",
       "    TP_COR_RACA  ...  Q016  Q017 Q018  Q019 Q020  Q021  Q022  Q023  Q024  Q025  \n",
       "4             1  ...     B     A    A     B    A     A     C     B     B     B  \n",
       "14            2  ...     A     A    A     B    A     A     B     A     A     A  \n",
       "25            3  ...     A     A    A     B    A     B     C     A     A     A  \n",
       "32            1  ...     B     A    B     C    B     A     E     A     B     B  \n",
       "38            4  ...     B     A    A     B    B     A     C     A     B     B  \n",
       "\n",
       "[5 rows x 136 columns]"
      ]
     },
     "execution_count": 8,
     "metadata": {},
     "output_type": "execute_result"
    }
   ],
   "source": [
    "enem_mg.head()"
   ]
  },
  {
   "cell_type": "code",
   "execution_count": 3,
   "metadata": {},
   "outputs": [],
   "source": [
    "# O código pode ser iniciado desse ponto, caso o arquivo com os dados filtrados já exista\n",
    "\n",
    "import pandas as pd\n",
    "import numpy\n",
    "\n",
    "enem_mg = pd.read_csv('./ENEM_2019_MG.csv', sep = ',', decimal='.')"
   ]
  },
  {
   "cell_type": "code",
   "execution_count": 4,
   "metadata": {
    "scrolled": true
   },
   "outputs": [
    {
     "data": {
      "text/html": [
       "<div>\n",
       "<style scoped>\n",
       "    .dataframe tbody tr th:only-of-type {\n",
       "        vertical-align: middle;\n",
       "    }\n",
       "\n",
       "    .dataframe tbody tr th {\n",
       "        vertical-align: top;\n",
       "    }\n",
       "\n",
       "    .dataframe thead th {\n",
       "        text-align: right;\n",
       "    }\n",
       "</style>\n",
       "<table border=\"1\" class=\"dataframe\">\n",
       "  <thead>\n",
       "    <tr style=\"text-align: right;\">\n",
       "      <th></th>\n",
       "      <th>Unnamed: 0</th>\n",
       "      <th>NU_INSCRICAO</th>\n",
       "      <th>NU_ANO</th>\n",
       "      <th>CO_MUNICIPIO_RESIDENCIA</th>\n",
       "      <th>NO_MUNICIPIO_RESIDENCIA</th>\n",
       "      <th>CO_UF_RESIDENCIA</th>\n",
       "      <th>SG_UF_RESIDENCIA</th>\n",
       "      <th>NU_IDADE</th>\n",
       "      <th>TP_SEXO</th>\n",
       "      <th>TP_ESTADO_CIVIL</th>\n",
       "      <th>...</th>\n",
       "      <th>Q016</th>\n",
       "      <th>Q017</th>\n",
       "      <th>Q018</th>\n",
       "      <th>Q019</th>\n",
       "      <th>Q020</th>\n",
       "      <th>Q021</th>\n",
       "      <th>Q022</th>\n",
       "      <th>Q023</th>\n",
       "      <th>Q024</th>\n",
       "      <th>Q025</th>\n",
       "    </tr>\n",
       "  </thead>\n",
       "  <tbody>\n",
       "    <tr>\n",
       "      <th>0</th>\n",
       "      <td>4</td>\n",
       "      <td>190001237802</td>\n",
       "      <td>2019</td>\n",
       "      <td>3118601</td>\n",
       "      <td>Contagem</td>\n",
       "      <td>31</td>\n",
       "      <td>MG</td>\n",
       "      <td>22.0</td>\n",
       "      <td>F</td>\n",
       "      <td>1</td>\n",
       "      <td>...</td>\n",
       "      <td>B</td>\n",
       "      <td>A</td>\n",
       "      <td>A</td>\n",
       "      <td>B</td>\n",
       "      <td>A</td>\n",
       "      <td>A</td>\n",
       "      <td>C</td>\n",
       "      <td>B</td>\n",
       "      <td>B</td>\n",
       "      <td>B</td>\n",
       "    </tr>\n",
       "    <tr>\n",
       "      <th>1</th>\n",
       "      <td>14</td>\n",
       "      <td>190001237803</td>\n",
       "      <td>2019</td>\n",
       "      <td>3170206</td>\n",
       "      <td>Uberlândia</td>\n",
       "      <td>31</td>\n",
       "      <td>MG</td>\n",
       "      <td>30.0</td>\n",
       "      <td>F</td>\n",
       "      <td>1</td>\n",
       "      <td>...</td>\n",
       "      <td>A</td>\n",
       "      <td>A</td>\n",
       "      <td>A</td>\n",
       "      <td>B</td>\n",
       "      <td>A</td>\n",
       "      <td>A</td>\n",
       "      <td>B</td>\n",
       "      <td>A</td>\n",
       "      <td>A</td>\n",
       "      <td>A</td>\n",
       "    </tr>\n",
       "    <tr>\n",
       "      <th>2</th>\n",
       "      <td>25</td>\n",
       "      <td>190001237804</td>\n",
       "      <td>2019</td>\n",
       "      <td>3124104</td>\n",
       "      <td>Esmeraldas</td>\n",
       "      <td>31</td>\n",
       "      <td>MG</td>\n",
       "      <td>27.0</td>\n",
       "      <td>M</td>\n",
       "      <td>1</td>\n",
       "      <td>...</td>\n",
       "      <td>A</td>\n",
       "      <td>A</td>\n",
       "      <td>A</td>\n",
       "      <td>B</td>\n",
       "      <td>A</td>\n",
       "      <td>B</td>\n",
       "      <td>C</td>\n",
       "      <td>A</td>\n",
       "      <td>A</td>\n",
       "      <td>A</td>\n",
       "    </tr>\n",
       "    <tr>\n",
       "      <th>3</th>\n",
       "      <td>32</td>\n",
       "      <td>190001237805</td>\n",
       "      <td>2019</td>\n",
       "      <td>3118304</td>\n",
       "      <td>Conselheiro Lafaiete</td>\n",
       "      <td>31</td>\n",
       "      <td>MG</td>\n",
       "      <td>22.0</td>\n",
       "      <td>F</td>\n",
       "      <td>1</td>\n",
       "      <td>...</td>\n",
       "      <td>B</td>\n",
       "      <td>A</td>\n",
       "      <td>B</td>\n",
       "      <td>C</td>\n",
       "      <td>B</td>\n",
       "      <td>A</td>\n",
       "      <td>E</td>\n",
       "      <td>A</td>\n",
       "      <td>B</td>\n",
       "      <td>B</td>\n",
       "    </tr>\n",
       "    <tr>\n",
       "      <th>4</th>\n",
       "      <td>38</td>\n",
       "      <td>190001237806</td>\n",
       "      <td>2019</td>\n",
       "      <td>3162922</td>\n",
       "      <td>São Joaquim de Bicas</td>\n",
       "      <td>31</td>\n",
       "      <td>MG</td>\n",
       "      <td>23.0</td>\n",
       "      <td>F</td>\n",
       "      <td>1</td>\n",
       "      <td>...</td>\n",
       "      <td>B</td>\n",
       "      <td>A</td>\n",
       "      <td>A</td>\n",
       "      <td>B</td>\n",
       "      <td>B</td>\n",
       "      <td>A</td>\n",
       "      <td>C</td>\n",
       "      <td>A</td>\n",
       "      <td>B</td>\n",
       "      <td>B</td>\n",
       "    </tr>\n",
       "  </tbody>\n",
       "</table>\n",
       "<p>5 rows × 137 columns</p>\n",
       "</div>"
      ],
      "text/plain": [
       "   Unnamed: 0  NU_INSCRICAO  NU_ANO  CO_MUNICIPIO_RESIDENCIA  \\\n",
       "0           4  190001237802    2019                  3118601   \n",
       "1          14  190001237803    2019                  3170206   \n",
       "2          25  190001237804    2019                  3124104   \n",
       "3          32  190001237805    2019                  3118304   \n",
       "4          38  190001237806    2019                  3162922   \n",
       "\n",
       "  NO_MUNICIPIO_RESIDENCIA  CO_UF_RESIDENCIA SG_UF_RESIDENCIA  NU_IDADE  \\\n",
       "0                Contagem                31               MG      22.0   \n",
       "1              Uberlândia                31               MG      30.0   \n",
       "2              Esmeraldas                31               MG      27.0   \n",
       "3    Conselheiro Lafaiete                31               MG      22.0   \n",
       "4    São Joaquim de Bicas                31               MG      23.0   \n",
       "\n",
       "  TP_SEXO  TP_ESTADO_CIVIL  ...  Q016  Q017  Q018 Q019  Q020 Q021  Q022  Q023  \\\n",
       "0       F                1  ...     B     A     A    B     A    A     C     B   \n",
       "1       F                1  ...     A     A     A    B     A    A     B     A   \n",
       "2       M                1  ...     A     A     A    B     A    B     C     A   \n",
       "3       F                1  ...     B     A     B    C     B    A     E     A   \n",
       "4       F                1  ...     B     A     A    B     B    A     C     A   \n",
       "\n",
       "   Q024  Q025  \n",
       "0     B     B  \n",
       "1     A     A  \n",
       "2     A     A  \n",
       "3     B     B  \n",
       "4     B     B  \n",
       "\n",
       "[5 rows x 137 columns]"
      ]
     },
     "execution_count": 4,
     "metadata": {},
     "output_type": "execute_result"
    }
   ],
   "source": [
    "enem_mg.head()"
   ]
  },
  {
   "cell_type": "markdown",
   "metadata": {},
   "source": [
    "# Questões referentes aos dados do Enem dos Alunos de MG:"
   ]
  },
  {
   "cell_type": "code",
   "execution_count": 5,
   "metadata": {},
   "outputs": [
    {
     "data": {
      "text/plain": [
       "546.796207651218"
      ]
     },
     "execution_count": 5,
     "metadata": {},
     "output_type": "execute_result"
    }
   ],
   "source": [
    "#Questão 1 - Qual é a média da nota em matemática de todos os alunos mineiros?\n",
    "enem_mg['NU_NOTA_MT'].mean()"
   ]
  },
  {
   "cell_type": "code",
   "execution_count": 6,
   "metadata": {},
   "outputs": [
    {
     "data": {
      "text/plain": [
       "531.2155500475569"
      ]
     },
     "execution_count": 6,
     "metadata": {},
     "output_type": "execute_result"
    }
   ],
   "source": [
    "#Questão 2 - Qual é a média da nota em Linguagens e Códigos de todos os alunos mineiros?\n",
    "enem_mg['NU_NOTA_LC'].mean()"
   ]
  },
  {
   "cell_type": "code",
   "execution_count": 7,
   "metadata": {},
   "outputs": [
    {
     "data": {
      "text/plain": [
       "515.1270983575348"
      ]
     },
     "execution_count": 7,
     "metadata": {},
     "output_type": "execute_result"
    }
   ],
   "source": [
    "#Questão 3 - Qual é a média da nota em Ciências Humanas dos alunos do sexo FEMININO mineiros?\n",
    "enem_mg.loc[\n",
    "    enem_mg.TP_SEXO == 'F'\n",
    "].NU_NOTA_CH.mean()"
   ]
  },
  {
   "cell_type": "code",
   "execution_count": 8,
   "metadata": {},
   "outputs": [
    {
     "data": {
      "text/plain": [
       "529.6982704731556"
      ]
     },
     "execution_count": 8,
     "metadata": {},
     "output_type": "execute_result"
    }
   ],
   "source": [
    "#Questão 4 - Qual é a média da nota em Ciências Humanas dos alunos do sexo MASCULINO?\n",
    "enem_mg.loc[\n",
    "    enem_mg.TP_SEXO == 'M'\n",
    "].NU_NOTA_CH.mean()"
   ]
  },
  {
   "cell_type": "code",
   "execution_count": 9,
   "metadata": {
    "scrolled": true
   },
   "outputs": [
    {
     "data": {
      "text/plain": [
       "525.4776724249901"
      ]
     },
     "execution_count": 9,
     "metadata": {},
     "output_type": "execute_result"
    }
   ],
   "source": [
    "#Questão 5 - Qual é a média da nota em Matemática dos alunos do sexo FEMININO que moram na cidade de Montes Claros?\n",
    "enem_mg.loc[\n",
    "    (enem_mg.TP_SEXO == 'F') & \n",
    "    (enem_mg.NO_MUNICIPIO_RESIDENCIA == 'Montes Claros')\n",
    "].NU_NOTA_MT.mean()"
   ]
  },
  {
   "cell_type": "code",
   "execution_count": 10,
   "metadata": {},
   "outputs": [
    {
     "data": {
      "text/plain": [
       "543.2927556818181"
      ]
     },
     "execution_count": 10,
     "metadata": {},
     "output_type": "execute_result"
    }
   ],
   "source": [
    "#Questão 6 - Qual é a média da nota em Matemática dos alunos do município de Sabará que possuem TV por assinatura na residência?\n",
    "enem_mg.loc[\n",
    "    (enem_mg.Q021 == 'B') & \n",
    "    (enem_mg.NO_MUNICIPIO_RESIDENCIA == 'Sabará')\n",
    "].NU_NOTA_MT.mean()"
   ]
  },
  {
   "cell_type": "code",
   "execution_count": 11,
   "metadata": {},
   "outputs": [
    {
     "data": {
      "text/plain": [
       "557.2765986394558"
      ]
     },
     "execution_count": 11,
     "metadata": {},
     "output_type": "execute_result"
    }
   ],
   "source": [
    "#Questão 7 - Qual é a média da nota em Ciências Humanas dos alunos mineiros que possuem dois fornos micro-ondas em casa?\n",
    "enem_mg.loc[\n",
    "    (enem_mg.Q016 == 'C')\n",
    "].NU_NOTA_CH.mean()"
   ]
  },
  {
   "cell_type": "code",
   "execution_count": 12,
   "metadata": {},
   "outputs": [
    {
     "data": {
      "text/plain": [
       "620.0070620709803"
      ]
     },
     "execution_count": 12,
     "metadata": {},
     "output_type": "execute_result"
    }
   ],
   "source": [
    "#Questão 8 - Qual é a nota média em Matemática dos alunos mineiros cuja mãe completou a pós-graduação?\n",
    "enem_mg.loc[\n",
    "    (enem_mg.Q002 == 'G')\n",
    "].NU_NOTA_MT.mean()"
   ]
  },
  {
   "cell_type": "code",
   "execution_count": 13,
   "metadata": {},
   "outputs": [
    {
     "data": {
      "text/plain": [
       "578.0392265100086"
      ]
     },
     "execution_count": 13,
     "metadata": {},
     "output_type": "execute_result"
    }
   ],
   "source": [
    "#Questão 9 - Qual é a nota média em Matemática dos alunos de Belo Horizonte e de Conselheiro Lafaiete?\n",
    "enem_mg.loc[\n",
    "    (enem_mg.NO_MUNICIPIO_RESIDENCIA == 'Conselheiro Lafaiete') |\n",
    "    (enem_mg.NO_MUNICIPIO_RESIDENCIA == 'Belo Horizonte')\n",
    "].NU_NOTA_MT.mean()"
   ]
  },
  {
   "cell_type": "code",
   "execution_count": 14,
   "metadata": {},
   "outputs": [
    {
     "data": {
      "text/plain": [
       "534.4573388609207"
      ]
     },
     "execution_count": 14,
     "metadata": {},
     "output_type": "execute_result"
    }
   ],
   "source": [
    "#Questão 10 - Qual é a nota média em Ciências Humanas dos alunos mineiros que moram sozinhos?\n",
    "enem_mg.loc[\n",
    "    (enem_mg.Q005 == 1)\n",
    "].NU_NOTA_CH.mean()"
   ]
  },
  {
   "cell_type": "code",
   "execution_count": 15,
   "metadata": {},
   "outputs": [
    {
     "data": {
      "text/plain": [
       "586.7231663685158"
      ]
     },
     "execution_count": 15,
     "metadata": {},
     "output_type": "execute_result"
    }
   ],
   "source": [
    "#Questão 11 - Qual é a nota média em Ciências Humanas dos alunos mineiros cujo pai\n",
    "#completou pós-graduação e possuem renda familiar entre R$ 8.982,01 e R$9.980,00?\n",
    "enem_mg.loc[\n",
    "    (enem_mg.Q001 == 'G') &\n",
    "    (enem_mg.Q006 == 'M')\n",
    "].NU_NOTA_CH.mean()"
   ]
  },
  {
   "cell_type": "code",
   "execution_count": 16,
   "metadata": {},
   "outputs": [
    {
     "data": {
      "text/plain": [
       "510.80950782997775"
      ]
     },
     "execution_count": 16,
     "metadata": {},
     "output_type": "execute_result"
    }
   ],
   "source": [
    "#Questão 12 - Qual é a nota média em Matemática dos alunos do sexo Feminino que moram emLavras e escolheram “Espanhol” como língua estrangeira?\n",
    "enem_mg.loc[\n",
    "    (enem_mg.TP_SEXO == 'F') &\n",
    "    (enem_mg.NO_MUNICIPIO_RESIDENCIA == 'Lavras') &\n",
    "    (enem_mg.TP_LINGUA == 1)\n",
    "].NU_NOTA_MT.mean()"
   ]
  },
  {
   "cell_type": "code",
   "execution_count": 17,
   "metadata": {},
   "outputs": [
    {
     "data": {
      "text/plain": [
       "555.0832520325196"
      ]
     },
     "execution_count": 17,
     "metadata": {},
     "output_type": "execute_result"
    }
   ],
   "source": [
    "#Questão 13 - Qual é a nota média em Matemática dos alunos do sexo Masculino que moram em Ouro Preto?\n",
    "enem_mg.loc[\n",
    "    (enem_mg.TP_SEXO == 'M') &\n",
    "    (enem_mg.NO_MUNICIPIO_RESIDENCIA == 'Ouro Preto')\n",
    "].NU_NOTA_MT.mean()"
   ]
  },
  {
   "cell_type": "code",
   "execution_count": 18,
   "metadata": {},
   "outputs": [
    {
     "data": {
      "text/plain": [
       "435.38796296296283"
      ]
     },
     "execution_count": 18,
     "metadata": {},
     "output_type": "execute_result"
    }
   ],
   "source": [
    "#Questão 14 - Qual é a nota média em Ciências Humanas dos alunos surdos?\n",
    "enem_mg.loc[\n",
    "    (enem_mg.IN_SURDEZ == 1)\n",
    "].NU_NOTA_CH.mean()"
   ]
  },
  {
   "cell_type": "code",
   "execution_count": 19,
   "metadata": {},
   "outputs": [
    {
     "data": {
      "text/plain": [
       "582.1935483870968"
      ]
     },
     "execution_count": 19,
     "metadata": {},
     "output_type": "execute_result"
    }
   ],
   "source": [
    "#Questão 15 - Qual é a nota média em Matemática dos alunos do sexo FEMININO, que moram em Belo Horizonte, Sabará, Nova Lima e Betim e possuem dislexia?\n",
    "enem_mg.loc[\n",
    "    (enem_mg.TP_SEXO == 'F') &\n",
    "   ( (enem_mg.NO_MUNICIPIO_RESIDENCIA == 'Belo Horizonte')|\n",
    "    (enem_mg.NO_MUNICIPIO_RESIDENCIA == 'Sabará') |\n",
    "    (enem_mg.NO_MUNICIPIO_RESIDENCIA == 'Nova Lima')|\n",
    "    (enem_mg.NO_MUNICIPIO_RESIDENCIA == 'Betim')) &\n",
    "    (enem_mg.IN_DISLEXIA == 1)\n",
    "].NU_NOTA_MT.mean()"
   ]
  },
  {
   "cell_type": "code",
   "execution_count": null,
   "metadata": {},
   "outputs": [],
   "source": []
  }
 ],
 "metadata": {
  "kernelspec": {
   "display_name": "Python 3",
   "language": "python",
   "name": "python3"
  },
  "language_info": {
   "codemirror_mode": {
    "name": "ipython",
    "version": 3
   },
   "file_extension": ".py",
   "mimetype": "text/x-python",
   "name": "python",
   "nbconvert_exporter": "python",
   "pygments_lexer": "ipython3",
   "version": "3.8.5"
  }
 },
 "nbformat": 4,
 "nbformat_minor": 4
}
